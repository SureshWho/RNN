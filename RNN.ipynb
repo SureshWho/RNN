{
  "nbformat": 4,
  "nbformat_minor": 0,
  "metadata": {
    "colab": {
      "name": "RNN.ipynb",
      "version": "0.3.2",
      "provenance": [],
      "include_colab_link": true
    },
    "kernelspec": {
      "name": "python3",
      "display_name": "Python 3"
    }
  },
  "cells": [
    {
      "cell_type": "markdown",
      "metadata": {
        "id": "view-in-github",
        "colab_type": "text"
      },
      "source": [
        "<a href=\"https://colab.research.google.com/github/SureshWho/RNN/blob/master/RNN.ipynb\" target=\"_parent\"><img src=\"https://colab.research.google.com/assets/colab-badge.svg\" alt=\"Open In Colab\"/></a>"
      ]
    },
    {
      "cell_type": "markdown",
      "metadata": {
        "id": "h4QKlfrAUSEy",
        "colab_type": "text"
      },
      "source": [
        "\n",
        "# RNN\n",
        "\n",
        "## Introduction\n",
        "Recurrent Neural Network **(RNN)**, used for processing sequence of data, unlike feedforward neural networks, RNNs can use their internal state (memory) to process sequences of inputs. \n",
        "\n",
        "- Input X, Output, Y, or both could be sequence, not a discrete values.\n",
        "- X and Y could have same or different in lengths.\n",
        "\n",
        "## Notations\n",
        "\n",
        "$x<t>$ - Discrete value from the sequence *x* at time *t*. $x$<2> represents $2^{nd}$ value from sequence t.\n",
        "\n",
        "Saved"
      ]
    },
    {
      "cell_type": "code",
      "metadata": {
        "id": "4aI91YqZZYZo",
        "colab_type": "code",
        "colab": {}
      },
      "source": [
        ""
      ],
      "execution_count": 0,
      "outputs": []
    }
  ]
}