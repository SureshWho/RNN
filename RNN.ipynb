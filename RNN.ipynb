{
  "nbformat": 4,
  "nbformat_minor": 0,
  "metadata": {
    "colab": {
      "name": "RNN.ipynb",
      "version": "0.3.2",
      "provenance": [],
      "include_colab_link": true
    },
    "kernelspec": {
      "name": "python3",
      "display_name": "Python 3"
    }
  },
  "cells": [
    {
      "cell_type": "markdown",
      "metadata": {
        "id": "view-in-github",
        "colab_type": "text"
      },
      "source": [
        "<a href=\"https://colab.research.google.com/github/SureshWho/RNN/blob/master/RNN.ipynb\" target=\"_parent\"><img src=\"https://colab.research.google.com/assets/colab-badge.svg\" alt=\"Open In Colab\"/></a>"
      ]
    },
    {
      "cell_type": "markdown",
      "metadata": {
        "id": "h4QKlfrAUSEy",
        "colab_type": "text"
      },
      "source": [
        "\n",
        "# RNN\n",
        "\n",
        "## Introduction\n",
        "Recurrent Neural Network **(RNN)**, used for processing sequence of data, unlike feedforward neural networks, RNNs can use their internal state (memory) to process sequences of inputs. \n",
        "\n",
        "- Input X, Output, Y, or both could be sequence, not a discrete values.\n",
        "- X and Y could have same or different in lengths.\n",
        "\n",
        "## Notations\n",
        "\n",
        "- **$x<t>$** - Discrete value from the input sequence *x* at time *t*. Eg. $x$<2> represents $2^{nd}$ value from input sequence x.\n",
        "- **$y<t>$** - $t^{th}$ sequence from output y. Eg. $y$<2> represents $2^{nd}$ value from output sequence y.\n",
        "- $T_{x}$ - Number of sequence in input $x$.\n",
        "- $T_{y}$ - Number of sequence in input $x$.\n",
        "- $X^{(i)<t>}$ - Referes to $t^{th}$ element in input sequence X for $i^{th}$ example in the training set.\n",
        "- $T^{(i)}_{x}$ - Referes to input sequence length for $i^{th}$ example.\n",
        "- $y^{(i)<t>}$ - Referes to $t^{th}$ element in output sequence y for $i^{th}$ example in the training set.\n",
        "- $T^{(i)}_{y}$ - Referes to output sequence length for $i^{th}$ example.\n",
        "- **$x<t>$** - TODO Represented as one-shot encoding from the dictionary of possible sequence element.\n"
      ]
    },
    {
      "cell_type": "code",
      "metadata": {
        "id": "4aI91YqZZYZo",
        "colab_type": "code",
        "colab": {}
      },
      "source": [
        ""
      ],
      "execution_count": 0,
      "outputs": []
    }
  ]
}